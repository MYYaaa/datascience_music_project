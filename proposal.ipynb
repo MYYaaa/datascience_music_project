{
 "cells": [
  {
   "cell_type": "markdown",
   "id": "26fba866-f919-41a8-9b13-19bb6316f6c8",
   "metadata": {},
   "source": [
    "# Project Proposal (think of a better title)"
   ]
  },
  {
   "cell_type": "markdown",
   "id": "fdfa092a-b858-41c2-b0a9-b1dab4f944ee",
   "metadata": {},
   "source": [
    "**Group:** 3"
   ]
  },
  {
   "cell_type": "markdown",
   "id": "e05c6dc9-5c40-49e5-8c06-09d8c833f4f4",
   "metadata": {},
   "source": [
    "## Introduction"
   ]
  },
  {
   "cell_type": "markdown",
   "id": "3dc1de2a-8303-4608-9354-dc3799d60ae1",
   "metadata": {},
   "source": []
  },
  {
   "cell_type": "markdown",
   "id": "7982c7ce-3646-4cf3-a9e1-665765c8eb19",
   "metadata": {},
   "source": [
    "## Exploratory Data Analysis"
   ]
  },
  {
   "cell_type": "markdown",
   "id": "0c57a20e-3082-4d7a-82b8-c2a8497decd2",
   "metadata": {},
   "source": []
  },
  {
   "cell_type": "markdown",
   "id": "3ea55407-58c4-45fd-be2d-5025fdd8fe31",
   "metadata": {},
   "source": [
    "## Methods"
   ]
  },
  {
   "cell_type": "markdown",
   "id": "cb0650a9-62f7-429f-b64a-29d2a0ead172",
   "metadata": {},
   "source": []
  },
  {
   "cell_type": "markdown",
   "id": "4cf8a538-6f94-4cdc-8ff9-2c1259e7662f",
   "metadata": {},
   "source": [
    "## Expected Outcomes and Significance"
   ]
  },
  {
   "cell_type": "markdown",
   "id": "fad7c405-8c4e-4089-b397-0c5799fdaec3",
   "metadata": {},
   "source": [
    "### Expected outcomes"
   ]
  },
  {
   "cell_type": "markdown",
   "id": "b716e256-0c21-4cb0-aed1-205087f0647d",
   "metadata": {},
   "source": []
  },
  {
   "cell_type": "markdown",
   "id": "54bd1ee0-9cd0-4c0d-add9-860c915cdfb2",
   "metadata": {},
   "source": [
    "### Significance"
   ]
  },
  {
   "cell_type": "markdown",
   "id": "0e3cc46d-4d4b-4c56-bf35-2fe8e98fede7",
   "metadata": {},
   "source": []
  },
  {
   "cell_type": "markdown",
   "id": "af5184f9-909e-4d1a-9887-60eef9e72ddb",
   "metadata": {},
   "source": [
    "### Future questions"
   ]
  },
  {
   "cell_type": "markdown",
   "id": "381e36fe-1e1b-4e5e-8d5f-520a90423d0a",
   "metadata": {},
   "source": []
  }
 ],
 "metadata": {
  "kernelspec": {
   "display_name": "R",
   "language": "R",
   "name": "ir"
  },
  "language_info": {
   "codemirror_mode": "r",
   "file_extension": ".r",
   "mimetype": "text/x-r-source",
   "name": "R",
   "pygments_lexer": "r",
   "version": "4.3.1"
  }
 },
 "nbformat": 4,
 "nbformat_minor": 5
}
