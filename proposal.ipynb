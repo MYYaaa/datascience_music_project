{
 "cells": [
  {
   "cell_type": "markdown",
   "id": "26fba866-f919-41a8-9b13-19bb6316f6c8",
   "metadata": {},
   "source": [
    "# Project Proposal (**think of an interesting title later**)"
   ]
  },
  {
   "cell_type": "markdown",
   "id": "fdfa092a-b858-41c2-b0a9-b1dab4f944ee",
   "metadata": {},
   "source": [
    "**Group:** 3"
   ]
  },
  {
   "cell_type": "markdown",
   "id": "ad380d61-fe8a-45d8-b6ee-cfc66ba7e7f7",
   "metadata": {},
   "source": [
    "**Members:** Maggie Cui, Tristan Heilbron, David Li, Ivy Nguyen"
   ]
  },
  {
   "cell_type": "markdown",
   "id": "e05c6dc9-5c40-49e5-8c06-09d8c833f4f4",
   "metadata": {},
   "source": [
    "## Introduction"
   ]
  },
  {
   "cell_type": "markdown",
   "id": "3dc1de2a-8303-4608-9354-dc3799d60ae1",
   "metadata": {},
   "source": []
  },
  {
   "cell_type": "markdown",
   "id": "7982c7ce-3646-4cf3-a9e1-665765c8eb19",
   "metadata": {},
   "source": [
    "## Exploratory Data Analysis"
   ]
  },
  {
   "cell_type": "markdown",
   "id": "0c57a20e-3082-4d7a-82b8-c2a8497decd2",
   "metadata": {},
   "source": [
    "### Loading required libraries"
   ]
  },
  {
   "cell_type": "code",
   "execution_count": 2,
   "id": "4742dcaf-646a-4383-b2f4-14b77eed12dd",
   "metadata": {},
   "outputs": [
    {
     "name": "stderr",
     "output_type": "stream",
     "text": [
      "── \u001b[1mAttaching core tidyverse packages\u001b[22m ──────────────────────── tidyverse 2.0.0 ──\n",
      "\u001b[32m✔\u001b[39m \u001b[34mdplyr    \u001b[39m 1.1.3     \u001b[32m✔\u001b[39m \u001b[34mreadr    \u001b[39m 2.1.4\n",
      "\u001b[32m✔\u001b[39m \u001b[34mforcats  \u001b[39m 1.0.0     \u001b[32m✔\u001b[39m \u001b[34mstringr  \u001b[39m 1.5.0\n",
      "\u001b[32m✔\u001b[39m \u001b[34mggplot2  \u001b[39m 3.4.4     \u001b[32m✔\u001b[39m \u001b[34mtibble   \u001b[39m 3.2.1\n",
      "\u001b[32m✔\u001b[39m \u001b[34mlubridate\u001b[39m 1.9.3     \u001b[32m✔\u001b[39m \u001b[34mtidyr    \u001b[39m 1.3.0\n",
      "\u001b[32m✔\u001b[39m \u001b[34mpurrr    \u001b[39m 1.0.2     \n",
      "── \u001b[1mConflicts\u001b[22m ────────────────────────────────────────── tidyverse_conflicts() ──\n",
      "\u001b[31m✖\u001b[39m \u001b[34mdplyr\u001b[39m::\u001b[32mfilter()\u001b[39m masks \u001b[34mstats\u001b[39m::filter()\n",
      "\u001b[31m✖\u001b[39m \u001b[34mdplyr\u001b[39m::\u001b[32mlag()\u001b[39m    masks \u001b[34mstats\u001b[39m::lag()\n",
      "\u001b[36mℹ\u001b[39m Use the conflicted package (\u001b[3m\u001b[34m<http://conflicted.r-lib.org/>\u001b[39m\u001b[23m) to force all conflicts to become errors\n",
      "── \u001b[1mAttaching packages\u001b[22m ────────────────────────────────────── tidymodels 1.1.1 ──\n",
      "\n",
      "\u001b[32m✔\u001b[39m \u001b[34mbroom       \u001b[39m 1.0.5     \u001b[32m✔\u001b[39m \u001b[34mrsample     \u001b[39m 1.2.0\n",
      "\u001b[32m✔\u001b[39m \u001b[34mdials       \u001b[39m 1.2.0     \u001b[32m✔\u001b[39m \u001b[34mtune        \u001b[39m 1.1.2\n",
      "\u001b[32m✔\u001b[39m \u001b[34minfer       \u001b[39m 1.0.5     \u001b[32m✔\u001b[39m \u001b[34mworkflows   \u001b[39m 1.1.3\n",
      "\u001b[32m✔\u001b[39m \u001b[34mmodeldata   \u001b[39m 1.2.0     \u001b[32m✔\u001b[39m \u001b[34mworkflowsets\u001b[39m 1.0.1\n",
      "\u001b[32m✔\u001b[39m \u001b[34mparsnip     \u001b[39m 1.1.1     \u001b[32m✔\u001b[39m \u001b[34myardstick   \u001b[39m 1.2.0\n",
      "\u001b[32m✔\u001b[39m \u001b[34mrecipes     \u001b[39m 1.0.8     \n",
      "\n",
      "── \u001b[1mConflicts\u001b[22m ───────────────────────────────────────── tidymodels_conflicts() ──\n",
      "\u001b[31m✖\u001b[39m \u001b[34mscales\u001b[39m::\u001b[32mdiscard()\u001b[39m masks \u001b[34mpurrr\u001b[39m::discard()\n",
      "\u001b[31m✖\u001b[39m \u001b[34mdplyr\u001b[39m::\u001b[32mfilter()\u001b[39m   masks \u001b[34mstats\u001b[39m::filter()\n",
      "\u001b[31m✖\u001b[39m \u001b[34mrecipes\u001b[39m::\u001b[32mfixed()\u001b[39m  masks \u001b[34mstringr\u001b[39m::fixed()\n",
      "\u001b[31m✖\u001b[39m \u001b[34mdplyr\u001b[39m::\u001b[32mlag()\u001b[39m      masks \u001b[34mstats\u001b[39m::lag()\n",
      "\u001b[31m✖\u001b[39m \u001b[34myardstick\u001b[39m::\u001b[32mspec()\u001b[39m masks \u001b[34mreadr\u001b[39m::spec()\n",
      "\u001b[31m✖\u001b[39m \u001b[34mrecipes\u001b[39m::\u001b[32mstep()\u001b[39m   masks \u001b[34mstats\u001b[39m::step()\n",
      "\u001b[34m•\u001b[39m Dig deeper into tidy modeling with R at \u001b[32mhttps://www.tmwr.org\u001b[39m\n",
      "\n"
     ]
    }
   ],
   "source": [
    "library(tidyverse)\n",
    "library(tidymodels)\n",
    "library(repr)\n",
    "library(RColorBrewer)"
   ]
  },
  {
   "cell_type": "markdown",
   "id": "6a7492b1-83cb-4dbe-9276-83afc0f6fc5a",
   "metadata": {},
   "source": [
    "### Loading the dataset"
   ]
  },
  {
   "cell_type": "code",
   "execution_count": 5,
   "id": "52952e5e-34af-4b04-ad98-a3d400ea48d6",
   "metadata": {},
   "outputs": [
    {
     "name": "stderr",
     "output_type": "stream",
     "text": [
      "\u001b[1mRows: \u001b[22m\u001b[34m303\u001b[39m \u001b[1mColumns: \u001b[22m\u001b[34m14\u001b[39m\n",
      "\u001b[36m──\u001b[39m \u001b[1mColumn specification\u001b[22m \u001b[36m────────────────────────────────────────────────────────\u001b[39m\n",
      "\u001b[1mDelimiter:\u001b[22m \",\"\n",
      "\u001b[31mchr\u001b[39m  (2): ca, thal\n",
      "\u001b[32mdbl\u001b[39m (12): age, sex, cp, trestbps, chol, fbs, restecg, thalach, exang, oldpea...\n",
      "\n",
      "\u001b[36mℹ\u001b[39m Use `spec()` to retrieve the full column specification for this data.\n",
      "\u001b[36mℹ\u001b[39m Specify the column types or set `show_col_types = FALSE` to quiet this message.\n",
      "\u001b[1mRows: \u001b[22m\u001b[34m294\u001b[39m \u001b[1mColumns: \u001b[22m\u001b[34m14\u001b[39m\n",
      "\u001b[36m──\u001b[39m \u001b[1mColumn specification\u001b[22m \u001b[36m────────────────────────────────────────────────────────\u001b[39m\n",
      "\u001b[1mDelimiter:\u001b[22m \",\"\n",
      "\u001b[31mchr\u001b[39m (9): trestbps, chol, fbs, restecg, thalach, exang, slope, ca, thal\n",
      "\u001b[32mdbl\u001b[39m (5): age, sex, cp, oldpeak, num\n",
      "\n",
      "\u001b[36mℹ\u001b[39m Use `spec()` to retrieve the full column specification for this data.\n",
      "\u001b[36mℹ\u001b[39m Specify the column types or set `show_col_types = FALSE` to quiet this message.\n"
     ]
    }
   ],
   "source": [
    "cleveland_data_url <- \"https://raw.githubusercontent.com/MYYaaa/datascience_project_group3/main/data/processed.cleveland.data\"\n",
    "hungarian_data_url <- \"https://raw.githubusercontent.com/MYYaaa/datascience_project_group3/main/data/processed.hungarian.data\"\n",
    "\n",
    "data_column_names <- c(\"age\", \"sex\", \"cp\", \"trestbps\", \"chol\", \"fbs\", \"restecg\", \"thalach\", \"exang\", \"oldpeak\", \"slope\", \"ca\", \"thal\", \"num\")\n",
    "\n",
    "cleveland_data <- read_csv(cleveland_data_url, col_names = data_column_names)\n",
    "hungarian_data <- read_csv(hungarian_data_url, col_names = data_column_names)"
   ]
  },
  {
   "cell_type": "markdown",
   "id": "ab58a136-ddd4-42e6-a215-9b9ecb1ba3c4",
   "metadata": {},
   "source": [
    "### Cleaning and wrangling the data"
   ]
  },
  {
   "cell_type": "code",
   "execution_count": 28,
   "id": "c76f4d52-f5a3-4412-bd03-e940b1e7b147",
   "metadata": {},
   "outputs": [
    {
     "name": "stdout",
     "output_type": "stream",
     "text": [
      "Rows: 597\n",
      "Columns: 14\n",
      "$ diagnosis \u001b[3m\u001b[90m<fct>\u001b[39m\u001b[23m absent, present, present, absent, absent, absent, present, a…\n",
      "$ age       \u001b[3m\u001b[90m<dbl>\u001b[39m\u001b[23m 63, 67, 67, 37, 41, 56, 62, 57, 63, 53, 57, 56, 56, 44, 52, …\n",
      "$ sex       \u001b[3m\u001b[90m<fct>\u001b[39m\u001b[23m 1, 1, 1, 1, 0, 1, 0, 0, 1, 1, 1, 0, 1, 1, 1, 1, 1, 1, 0, 1, …\n",
      "$ cp        \u001b[3m\u001b[90m<fct>\u001b[39m\u001b[23m 1, 4, 4, 3, 2, 2, 4, 4, 4, 4, 4, 2, 3, 2, 3, 3, 2, 4, 3, 2, …\n",
      "$ trestbps  \u001b[3m\u001b[90m<dbl>\u001b[39m\u001b[23m 145, 160, 120, 130, 130, 120, 140, 120, 130, 140, 140, 140, …\n",
      "$ chol      \u001b[3m\u001b[90m<dbl>\u001b[39m\u001b[23m 233, 286, 229, 250, 204, 236, 268, 354, 254, 203, 192, 294, …\n",
      "$ fbs       \u001b[3m\u001b[90m<fct>\u001b[39m\u001b[23m 1, 0, 0, 0, 0, 0, 0, 0, 0, 1, 0, 0, 1, 0, 1, 0, 0, 0, 0, 0, …\n",
      "$ restecg   \u001b[3m\u001b[90m<fct>\u001b[39m\u001b[23m 2, 2, 2, 0, 2, 0, 2, 0, 2, 2, 0, 2, 2, 0, 0, 0, 0, 0, 0, 0, …\n",
      "$ thalach   \u001b[3m\u001b[90m<dbl>\u001b[39m\u001b[23m 150, 108, 129, 187, 172, 178, 160, 163, 147, 155, 148, 153, …\n",
      "$ exang     \u001b[3m\u001b[90m<fct>\u001b[39m\u001b[23m 0, 1, 1, 0, 0, 0, 0, 1, 0, 1, 0, 0, 1, 0, 0, 0, 0, 0, 0, 0, …\n",
      "$ oldpeak   \u001b[3m\u001b[90m<dbl>\u001b[39m\u001b[23m 2.3, 1.5, 2.6, 3.5, 1.4, 0.8, 3.6, 0.6, 1.4, 3.1, 0.4, 1.3, …\n",
      "$ slope     \u001b[3m\u001b[90m<fct>\u001b[39m\u001b[23m 3, 2, 2, 3, 1, 1, 3, 1, 2, 3, 2, 2, 2, 1, 1, 1, 3, 1, 1, 1, …\n",
      "$ ca        \u001b[3m\u001b[90m<dbl>\u001b[39m\u001b[23m 0, 3, 2, 0, 0, 0, 2, 0, 1, 0, 0, 0, 1, 0, 0, 0, 0, 0, 0, 0, …\n",
      "$ thal      \u001b[3m\u001b[90m<fct>\u001b[39m\u001b[23m 6.0, 3.0, 7.0, 3.0, 3.0, 3.0, 3.0, 3.0, 7.0, 7.0, 6.0, 3.0, …\n",
      "Rows: 597\n",
      "Columns: 7\n",
      "$ diagnosis \u001b[3m\u001b[90m<fct>\u001b[39m\u001b[23m absent, present, present, absent, absent, absent, present, a…\n",
      "$ age       \u001b[3m\u001b[90m<dbl>\u001b[39m\u001b[23m 63, 67, 67, 37, 41, 56, 62, 57, 63, 53, 57, 56, 56, 44, 52, …\n",
      "$ sex       \u001b[3m\u001b[90m<fct>\u001b[39m\u001b[23m 1, 1, 1, 1, 0, 1, 0, 0, 1, 1, 1, 0, 1, 1, 1, 1, 1, 1, 0, 1, …\n",
      "$ trestbps  \u001b[3m\u001b[90m<dbl>\u001b[39m\u001b[23m 145, 160, 120, 130, 130, 120, 140, 120, 130, 140, 140, 140, …\n",
      "$ chol      \u001b[3m\u001b[90m<dbl>\u001b[39m\u001b[23m 233, 286, 229, 250, 204, 236, 268, 354, 254, 203, 192, 294, …\n",
      "$ thalach   \u001b[3m\u001b[90m<dbl>\u001b[39m\u001b[23m 150, 108, 129, 187, 172, 178, 160, 163, 147, 155, 148, 153, …\n",
      "$ oldpeak   \u001b[3m\u001b[90m<dbl>\u001b[39m\u001b[23m 2.3, 1.5, 2.6, 3.5, 1.4, 0.8, 3.6, 0.6, 1.4, 3.1, 0.4, 1.3, …\n"
     ]
    }
   ],
   "source": [
    "# Substituting all \"?\" with NA\n",
    "cleveland_data[cleveland_data == \"?\"] <- NA\n",
    "hungarian_data[hungarian_data == \"?\"] <- NA\n",
    "\n",
    "# Converting to correct data types\n",
    "numeric_column_names <- c(\"age\", \"trestbps\", \"chol\", \"thalach\", \"oldpeak\", \"ca\")\n",
    "factor_column_names <- c(\"sex\", \"cp\", \"fbs\", \"restecg\", \"exang\", \"slope\", \"thal\", \"num\")\n",
    "\n",
    "cleveland_data <- cleveland_data |>\n",
    "    mutate(across(all_of(numeric_column_names), as.numeric)) |>\n",
    "    mutate(across(all_of(factor_column_names), as_factor))\n",
    "\n",
    "hungarian_data <- hungarian_data |>\n",
    "    mutate(across(all_of(numeric_column_names), as.numeric)) |>\n",
    "    mutate(across(all_of(factor_column_names), as_factor))\n",
    "\n",
    "# Combining the two data sets\n",
    "heart_disease_data <- bind_rows(cleveland_data, hungarian_data)\n",
    "\n",
    "# Make the label variable more readable\n",
    "heart_disease_data <- heart_disease_data |>\n",
    "    mutate(diagnosis = fct_recode(num, \"absent\" = \"0\", \"present\" = \"1\", \"present\" = \"2\", \"present\" = \"3\", \"present\" = \"4\")) |>\n",
    "    relocate(diagnosis) |>\n",
    "    select(-num)\n",
    "\n",
    "# Display the tidied data set with all variables\n",
    "glimpse(heart_disease_data)\n",
    "\n",
    "# Select only the variables we plan on using\n",
    "variables_of_interest <- c(\"diagnosis\", \"age\", \"sex\", \"trestbps\", \"chol\", \"thalach\", \"oldpeak\")\n",
    "\n",
    "heart_disease_data <- select(heart_disease_data, all_of(variables_of_interest))\n",
    "\n",
    "# Display the tidied data set with only the variables\n",
    "# we are using\n",
    "glimpse(heart_disease_data)"
   ]
  },
  {
   "cell_type": "markdown",
   "id": "332f6cff-1fcd-4f12-83e7-2db2121b4031",
   "metadata": {},
   "source": [
    "### Splitting the data"
   ]
  },
  {
   "cell_type": "code",
   "execution_count": 38,
   "id": "104793e1-a415-45d1-9e7d-9486e966ebae",
   "metadata": {},
   "outputs": [],
   "source": [
    "# Setting a seed so our analysis is random but reproducible\n",
    "set.seed(2005)\n",
    "\n",
    "heart_disease_data_split <- heart_disease_data |>\n",
    "    initial_split(prop = 0.75, strata = diagnosis)\n",
    "\n",
    "heart_disease_training_data <- training(heart_disease_data_split)\n",
    "heart_disease_testing_data <- testing(heart_disease_data_split)"
   ]
  },
  {
   "cell_type": "markdown",
   "id": "68b3b66c-26b3-4f25-8a24-78225024553b",
   "metadata": {},
   "source": [
    "### Summary of training data"
   ]
  },
  {
   "cell_type": "code",
   "execution_count": 40,
   "id": "7b10d102-1914-4ed0-9dc8-75e53fc66391",
   "metadata": {},
   "outputs": [
    {
     "data": {
      "text/html": [
       "<table class=\"dataframe\">\n",
       "<caption>A tibble: 2 × 2</caption>\n",
       "<thead>\n",
       "\t<tr><th scope=col>diagnosis</th><th scope=col>number_of_observations</th></tr>\n",
       "\t<tr><th scope=col>&lt;fct&gt;</th><th scope=col>&lt;int&gt;</th></tr>\n",
       "</thead>\n",
       "<tbody>\n",
       "\t<tr><td>absent </td><td>264</td></tr>\n",
       "\t<tr><td>present</td><td>183</td></tr>\n",
       "</tbody>\n",
       "</table>\n"
      ],
      "text/latex": [
       "A tibble: 2 × 2\n",
       "\\begin{tabular}{ll}\n",
       " diagnosis & number\\_of\\_observations\\\\\n",
       " <fct> & <int>\\\\\n",
       "\\hline\n",
       "\t absent  & 264\\\\\n",
       "\t present & 183\\\\\n",
       "\\end{tabular}\n"
      ],
      "text/markdown": [
       "\n",
       "A tibble: 2 × 2\n",
       "\n",
       "| diagnosis &lt;fct&gt; | number_of_observations &lt;int&gt; |\n",
       "|---|---|\n",
       "| absent  | 264 |\n",
       "| present | 183 |\n",
       "\n"
      ],
      "text/plain": [
       "  diagnosis number_of_observations\n",
       "1 absent    264                   \n",
       "2 present   183                   "
      ]
     },
     "metadata": {},
     "output_type": "display_data"
    }
   ],
   "source": [
    "# Display the number of observations for each diagnoses\n",
    "observation_count_summary <- heart_disease_training_data |>\n",
    "    group_by(diagnosis) |>\n",
    "    summarize(number_of_observations = n())\n",
    "\n",
    "observation_count_summary"
   ]
  },
  {
   "cell_type": "code",
   "execution_count": 47,
   "id": "74535093-d43b-4e69-9d59-5e1e1c899b9e",
   "metadata": {},
   "outputs": [
    {
     "data": {
      "text/html": [
       "<table class=\"dataframe\">\n",
       "<caption>A tibble: 2 × 2</caption>\n",
       "<thead>\n",
       "\t<tr><th scope=col>diagnosis</th><th scope=col>number_of_missing_values</th></tr>\n",
       "\t<tr><th scope=col>&lt;fct&gt;</th><th scope=col>&lt;int&gt;</th></tr>\n",
       "</thead>\n",
       "<tbody>\n",
       "\t<tr><td>absent </td><td>16</td></tr>\n",
       "\t<tr><td>present</td><td> 2</td></tr>\n",
       "</tbody>\n",
       "</table>\n"
      ],
      "text/latex": [
       "A tibble: 2 × 2\n",
       "\\begin{tabular}{ll}\n",
       " diagnosis & number\\_of\\_missing\\_values\\\\\n",
       " <fct> & <int>\\\\\n",
       "\\hline\n",
       "\t absent  & 16\\\\\n",
       "\t present &  2\\\\\n",
       "\\end{tabular}\n"
      ],
      "text/markdown": [
       "\n",
       "A tibble: 2 × 2\n",
       "\n",
       "| diagnosis &lt;fct&gt; | number_of_missing_values &lt;int&gt; |\n",
       "|---|---|\n",
       "| absent  | 16 |\n",
       "| present |  2 |\n",
       "\n"
      ],
      "text/plain": [
       "  diagnosis number_of_missing_values\n",
       "1 absent    16                      \n",
       "2 present    2                      "
      ]
     },
     "metadata": {},
     "output_type": "display_data"
    }
   ],
   "source": [
    "# Display number of rows with missing data\n",
    "missing_data_summary <- heart_disease_training_data |>\n",
    "    group_by(diagnosis) |>\n",
    "    filter(if_any(everything(), is.na)) |>\n",
    "    summarize(number_of_missing_values = n())\n",
    "\n",
    "missing_data_summary"
   ]
  },
  {
   "cell_type": "code",
   "execution_count": 65,
   "id": "436e09cb-b0c8-4ef2-8b15-642089a99035",
   "metadata": {},
   "outputs": [
    {
     "data": {
      "text/html": [
       "<table class=\"dataframe\">\n",
       "<caption>A tibble: 2 × 6</caption>\n",
       "<thead>\n",
       "\t<tr><th scope=col>diagnosis</th><th scope=col>age</th><th scope=col>trestbps</th><th scope=col>chol</th><th scope=col>thalach</th><th scope=col>oldpeak</th></tr>\n",
       "\t<tr><th scope=col>&lt;fct&gt;</th><th scope=col>&lt;dbl&gt;</th><th scope=col>&lt;dbl&gt;</th><th scope=col>&lt;dbl&gt;</th><th scope=col>&lt;dbl&gt;</th><th scope=col>&lt;dbl&gt;</th></tr>\n",
       "</thead>\n",
       "<tbody>\n",
       "\t<tr><td>absent </td><td>50.06061</td><td>130.5095</td><td>243.2570</td><td>149.4981</td><td>0.4117424</td></tr>\n",
       "\t<tr><td>present</td><td>53.72678</td><td>135.8743</td><td>260.5801</td><td>134.3607</td><td>1.3595628</td></tr>\n",
       "</tbody>\n",
       "</table>\n"
      ],
      "text/latex": [
       "A tibble: 2 × 6\n",
       "\\begin{tabular}{llllll}\n",
       " diagnosis & age & trestbps & chol & thalach & oldpeak\\\\\n",
       " <fct> & <dbl> & <dbl> & <dbl> & <dbl> & <dbl>\\\\\n",
       "\\hline\n",
       "\t absent  & 50.06061 & 130.5095 & 243.2570 & 149.4981 & 0.4117424\\\\\n",
       "\t present & 53.72678 & 135.8743 & 260.5801 & 134.3607 & 1.3595628\\\\\n",
       "\\end{tabular}\n"
      ],
      "text/markdown": [
       "\n",
       "A tibble: 2 × 6\n",
       "\n",
       "| diagnosis &lt;fct&gt; | age &lt;dbl&gt; | trestbps &lt;dbl&gt; | chol &lt;dbl&gt; | thalach &lt;dbl&gt; | oldpeak &lt;dbl&gt; |\n",
       "|---|---|---|---|---|---|\n",
       "| absent  | 50.06061 | 130.5095 | 243.2570 | 149.4981 | 0.4117424 |\n",
       "| present | 53.72678 | 135.8743 | 260.5801 | 134.3607 | 1.3595628 |\n",
       "\n"
      ],
      "text/plain": [
       "  diagnosis age      trestbps chol     thalach  oldpeak  \n",
       "1 absent    50.06061 130.5095 243.2570 149.4981 0.4117424\n",
       "2 present   53.72678 135.8743 260.5801 134.3607 1.3595628"
      ]
     },
     "metadata": {},
     "output_type": "display_data"
    }
   ],
   "source": [
    "# Display the average value of predictor variables\n",
    "average_value_summary <- heart_disease_training_data |>\n",
    "    select(-sex) |>\n",
    "    group_by(diagnosis) |>\n",
    "    summarize(across(everything(), ~ mean(.x, na.rm = TRUE)))\n",
    "\n",
    "average_value_summary"
   ]
  },
  {
   "cell_type": "markdown",
   "id": "e795d662-4263-4a5c-942c-8deca842cc13",
   "metadata": {},
   "source": [
    "### Visualization of training data"
   ]
  },
  {
   "cell_type": "code",
   "execution_count": null,
   "id": "62ed4fae-3b1a-43d7-9ab2-addf05dcdb23",
   "metadata": {},
   "outputs": [],
   "source": []
  },
  {
   "cell_type": "markdown",
   "id": "3ea55407-58c4-45fd-be2d-5025fdd8fe31",
   "metadata": {},
   "source": [
    "## Methods"
   ]
  },
  {
   "cell_type": "markdown",
   "id": "cb0650a9-62f7-429f-b64a-29d2a0ead172",
   "metadata": {},
   "source": []
  },
  {
   "cell_type": "markdown",
   "id": "4cf8a538-6f94-4cdc-8ff9-2c1259e7662f",
   "metadata": {},
   "source": [
    "## Expected Outcomes and Significance"
   ]
  },
  {
   "cell_type": "markdown",
   "id": "fad7c405-8c4e-4089-b397-0c5799fdaec3",
   "metadata": {},
   "source": [
    "### Expected findings"
   ]
  },
  {
   "cell_type": "markdown",
   "id": "b716e256-0c21-4cb0-aed1-205087f0647d",
   "metadata": {},
   "source": []
  },
  {
   "cell_type": "markdown",
   "id": "54bd1ee0-9cd0-4c0d-add9-860c915cdfb2",
   "metadata": {},
   "source": [
    "### Impact of findings"
   ]
  },
  {
   "cell_type": "markdown",
   "id": "0e3cc46d-4d4b-4c56-bf35-2fe8e98fede7",
   "metadata": {},
   "source": []
  },
  {
   "cell_type": "markdown",
   "id": "af5184f9-909e-4d1a-9887-60eef9e72ddb",
   "metadata": {},
   "source": [
    "### Future questions"
   ]
  },
  {
   "cell_type": "markdown",
   "id": "381e36fe-1e1b-4e5e-8d5f-520a90423d0a",
   "metadata": {},
   "source": []
  }
 ],
 "metadata": {
  "kernelspec": {
   "display_name": "R",
   "language": "R",
   "name": "ir"
  },
  "language_info": {
   "codemirror_mode": "r",
   "file_extension": ".r",
   "mimetype": "text/x-r-source",
   "name": "R",
   "pygments_lexer": "r",
   "version": "4.3.1"
  }
 },
 "nbformat": 4,
 "nbformat_minor": 5
}
